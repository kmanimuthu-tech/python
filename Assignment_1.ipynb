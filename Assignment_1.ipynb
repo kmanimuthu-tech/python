{
  "nbformat": 4,
  "nbformat_minor": 0,
  "metadata": {
    "colab": {
      "provenance": []
    },
    "kernelspec": {
      "name": "python3",
      "display_name": "Python 3"
    },
    "language_info": {
      "name": "python"
    }
  },
  "cells": [
    {
      "cell_type": "code",
      "execution_count": 1,
      "metadata": {
        "colab": {
          "base_uri": "https://localhost:8080/"
        },
        "id": "GPIgWoJUxK0U",
        "outputId": "d7f30aa5-adb7-431f-af94-7584038fbef1"
      },
      "outputs": [
        {
          "output_type": "stream",
          "name": "stdout",
          "text": [
            "Welcome to Assignment-1\n"
          ]
        }
      ],
      "source": [
        "print(\"Welcome to Assignment-1\")"
      ]
    },
    {
      "cell_type": "code",
      "source": [
        "Num1=10\n",
        "Num2=30\n",
        "Add = Num1 + Num2\n",
        "print(\"Num1= \", Num1)\n",
        "print(\"Num2= \", Num2)\n",
        "print(\"Add= \", Add)\n"
      ],
      "metadata": {
        "colab": {
          "base_uri": "https://localhost:8080/"
        },
        "id": "UGc-eh06xXkm",
        "outputId": "0080ef18-4129-4125-dc02-904cf340fb35"
      },
      "execution_count": 4,
      "outputs": [
        {
          "output_type": "stream",
          "name": "stdout",
          "text": [
            "Num1=  10\n",
            "Num2=  30\n",
            "Add=  40\n"
          ]
        }
      ]
    },
    {
      "cell_type": "code",
      "source": [
        "BMI=float(input(\"Enter the BMI Index : \"))\n",
        "BMI_list=[[0,18.5,\"Under Weight\"], [18.5, 24.9,\"Normal Weight\"], [25.0,29.9,\"pre obesity\"], [30.0, 34.9,\"obesity\"], [35.0,100,\"sever obesity\"]]\n",
        "for sublist in BMI_list:\n",
        "  if ( BMI >= sublist[0] and BMI <sublist[-2] ):\n",
        "    print (sublist[-1])\n"
      ],
      "metadata": {
        "colab": {
          "base_uri": "https://localhost:8080/"
        },
        "id": "OLLi9Rfhxj9k",
        "outputId": "d39423ec-cec6-4751-d102-d43f1440a1e8"
      },
      "execution_count": 21,
      "outputs": [
        {
          "output_type": "stream",
          "name": "stdout",
          "text": [
            "Enter the BMI Index : 30\n",
            "obesity\n"
          ]
        }
      ]
    },
    {
      "cell_type": "code",
      "source": [],
      "metadata": {
        "id": "LBhbYdUnyI39"
      },
      "execution_count": 5,
      "outputs": []
    }
  ]
}