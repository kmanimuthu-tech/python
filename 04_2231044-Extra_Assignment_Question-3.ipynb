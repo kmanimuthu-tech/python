{
 "cells": [
  {
   "cell_type": "code",
   "execution_count": 1,
   "id": "541752c3-a803-4201-918f-f5522171b661",
   "metadata": {},
   "outputs": [
    {
     "name": "stdout",
     "output_type": "stream",
     "text": [
      "CORRECT\n"
     ]
    }
   ],
   "source": [
    "# print 'CORRECT' if i == 10\n",
    "i = 10\n",
    "if ( i == 10):\n",
    "    print ('CORRECT')"
   ]
  },
  {
   "cell_type": "code",
   "execution_count": 14,
   "id": "39d659f0-f46c-4ce6-9b55-ef10c8df021a",
   "metadata": {},
   "outputs": [
    {
     "name": "stdin",
     "output_type": "stream",
     "text": [
      "Enter the password: HOPE@123\n"
     ]
    },
    {
     "name": "stdout",
     "output_type": "stream",
     "text": [
      "Your password is correct\n"
     ]
    }
   ],
   "source": [
    "# Check the password, using if and else\n",
    "my_passwd = input ('Enter the password:')\n",
    "if  ( my_passwd == 'HOPE@123') :\n",
    "    print('Your password is correct')\n",
    "else:\n",
    "    print ('Your password is wrong')"
   ]
  },
  {
   "cell_type": "code",
   "execution_count": 25,
   "id": "933a8528-ce57-4f3a-b031-4a2a93874099",
   "metadata": {},
   "outputs": [
    {
     "name": "stdin",
     "output_type": "stream",
     "text": [
      "Enter your age :  20\n"
     ]
    },
    {
     "name": "stdout",
     "output_type": "stream",
     "text": [
      "adult\n"
     ]
    }
   ],
   "source": [
    "# Catagory the people by their age like children, adult, citizen, senior citizen...\n",
    "age = int(input (\"Enter your age : \"))\n",
    "age_range=[[0,18,\"child\"], [18, 40,\"adult\"], [40,60,\"citizen\"], [60, 100,\"senior citizen\"]]\n",
    "for cmp in age_range:\n",
    "    #print (age)\n",
    "    if ( age >= cmp[0] and age <cmp[-2] ):\n",
    "        print (cmp[-1])"
   ]
  },
  {
   "cell_type": "code",
   "execution_count": 31,
   "id": "b780f4f4-956d-456e-94bd-8958e8a2e765",
   "metadata": {},
   "outputs": [
    {
     "name": "stdin",
     "output_type": "stream",
     "text": [
      "Enter any number:  1\n"
     ]
    },
    {
     "name": "stdout",
     "output_type": "stream",
     "text": [
      "No is positive\n"
     ]
    }
   ],
   "source": [
    "# Find whether given number is positive or negative\n",
    "num = int(input(\"Enter any number: \") )\n",
    "if ( num > 0 ):\n",
    "    print(\"No is positive\")\n",
    "else:\n",
    "    print(\"No is negative\")\n",
    "    "
   ]
  },
  {
   "cell_type": "code",
   "execution_count": 33,
   "id": "58d099aa-a2e2-4a7d-a932-1acd6248db5e",
   "metadata": {},
   "outputs": [
    {
     "name": "stdin",
     "output_type": "stream",
     "text": [
      "Enter a number to check :  22\n"
     ]
    },
    {
     "name": "stdout",
     "output_type": "stream",
     "text": [
      "No is not divisible by 5\n"
     ]
    }
   ],
   "source": [
    "# Check whether the given number is divisible by 5\n",
    "num = int(input(\"Enter a number to check : \") )\n",
    "if ( num % 5 == 0):\n",
    "    print(\"No is divisible by 5\")\n",
    "else:\n",
    "    print(\"No is not divisible by 5\")\n",
    "    "
   ]
  }
 ],
 "metadata": {
  "kernelspec": {
   "display_name": "Python [conda env:base] *",
   "language": "python",
   "name": "conda-base-py"
  },
  "language_info": {
   "codemirror_mode": {
    "name": "ipython",
    "version": 3
   },
   "file_extension": ".py",
   "mimetype": "text/x-python",
   "name": "python",
   "nbconvert_exporter": "python",
   "pygments_lexer": "ipython3",
   "version": "3.13.5"
  }
 },
 "nbformat": 4,
 "nbformat_minor": 5
}
