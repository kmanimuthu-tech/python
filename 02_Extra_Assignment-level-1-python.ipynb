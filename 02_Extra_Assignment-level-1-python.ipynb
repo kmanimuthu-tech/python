{
 "cells": [
  {
   "cell_type": "code",
   "execution_count": 1,
   "id": "aac19f43-9648-4c8b-8dc1-22c67677115d",
   "metadata": {},
   "outputs": [
    {
     "name": "stdout",
     "output_type": "stream",
     "text": [
      "HOPE AI\n"
     ]
    }
   ],
   "source": [
    "print(\"HOPE AI\")"
   ]
  },
  {
   "cell_type": "code",
   "execution_count": 3,
   "id": "db030976-c307-4881-89df-387746e9a52c",
   "metadata": {},
   "outputs": [
    {
     "name": "stdin",
     "output_type": "stream",
     "text": [
      "Enter your institute name? :  HOPE AI\n"
     ]
    },
    {
     "data": {
      "text/plain": [
       "'HOPE AI'"
      ]
     },
     "execution_count": 3,
     "metadata": {},
     "output_type": "execute_result"
    }
   ],
   "source": [
    "input(\"Enter your institute name? : \")"
   ]
  },
  {
   "cell_type": "code",
   "execution_count": 6,
   "id": "bb9a0764-f729-43cd-9e0e-eeed498dde99",
   "metadata": {},
   "outputs": [
    {
     "name": "stdin",
     "output_type": "stream",
     "text": [
      "Enter your name:  Manimuthu\n",
      "Enter your age:  40\n",
      "Enter your school name:  RC\n",
      "Enter your drgree:  MSc\n"
     ]
    },
    {
     "data": {
      "text/plain": [
       "'MSc'"
      ]
     },
     "execution_count": 6,
     "metadata": {},
     "output_type": "execute_result"
    }
   ],
   "source": [
    "input (\"Enter your name: \")\n",
    "int(input (\"Enter your age: \"))\n",
    "input(\"Enter your school name: \")\n",
    "input (\"Enter your drgree: \")"
   ]
  },
  {
   "cell_type": "code",
   "execution_count": 13,
   "id": "68c9ce29-c2f5-41af-a03e-cf87cce0bf55",
   "metadata": {},
   "outputs": [
    {
     "name": "stdout",
     "output_type": "stream",
     "text": [
      "a =  43\n",
      "b =  34\n",
      "add =  77\n"
     ]
    }
   ],
   "source": [
    "a=43\n",
    "b=34\n",
    "print(\"a = \", a)\n",
    "print(\"b = \", b)\n",
    "print (\"add = \",a + b)"
   ]
  },
  {
   "cell_type": "code",
   "execution_count": 15,
   "id": "1fcd0432-9e08-49bd-a6ed-b2e48bbdc13f",
   "metadata": {},
   "outputs": [
    {
     "name": "stdout",
     "output_type": "stream",
     "text": [
      "a =  43\n",
      "b =  34\n",
      "sub =  9\n"
     ]
    }
   ],
   "source": [
    "a=43\n",
    "b=34\n",
    "print(\"a = \", a)\n",
    "print(\"b = \", b)\n",
    "print (\"sub = \",a - b)"
   ]
  },
  {
   "cell_type": "code",
   "execution_count": 17,
   "id": "9dcbe5eb-ca8a-49d6-a466-4305dfa8968f",
   "metadata": {
    "scrolled": true
   },
   "outputs": [
    {
     "name": "stdout",
     "output_type": "stream",
     "text": [
      "a =  63\n",
      "b =  97\n",
      "Mul =  6111\n"
     ]
    }
   ],
   "source": [
    "a=63\n",
    "b=97\n",
    "print(\"a = \", a)\n",
    "print(\"b = \", b)\n",
    "print (\"Mul = \",a * b)"
   ]
  },
  {
   "cell_type": "code",
   "execution_count": 19,
   "id": "5a25ad25-57e6-4d3d-8d7e-a4348aaa9de3",
   "metadata": {},
   "outputs": [
    {
     "name": "stdout",
     "output_type": "stream",
     "text": [
      "a =  76\n",
      "b =  31\n",
      "Float Div =  2.4516129032258065\n"
     ]
    }
   ],
   "source": [
    "a=76\n",
    "b=31\n",
    "print(\"a = \", a)\n",
    "print(\"b = \", b)\n",
    "print (\"Float Div = \",a / b)"
   ]
  },
  {
   "cell_type": "code",
   "execution_count": 21,
   "id": "e6aab92a-08d7-459a-97a4-2fe304818972",
   "metadata": {},
   "outputs": [
    {
     "name": "stdout",
     "output_type": "stream",
     "text": [
      "a =  76\n",
      "b =  31\n",
      "Float Div =  2\n"
     ]
    }
   ],
   "source": [
    "import math\n",
    "a=76\n",
    "b=31\n",
    "print(\"a = \", a)\n",
    "print(\"b = \", b)\n",
    "print (\"Floor Div = \",math.floor(a/b)) "
   ]
  },
  {
   "cell_type": "code",
   "execution_count": 23,
   "id": "d784352c-aa71-4341-a3b9-37f468042da8",
   "metadata": {},
   "outputs": [
    {
     "name": "stdout",
     "output_type": "stream",
     "text": [
      "a =  76\n",
      "b =  31\n",
      "Modulo =  14\n"
     ]
    }
   ],
   "source": [
    "a=76\n",
    "b=31\n",
    "print(\"a = \", a)\n",
    "print(\"b = \", b)\n",
    "print (\"Modulo = \",(a%b)) "
   ]
  },
  {
   "cell_type": "code",
   "execution_count": 24,
   "id": "a3326ac0-c205-458e-b974-8ace849ad6be",
   "metadata": {},
   "outputs": [
    {
     "name": "stdout",
     "output_type": "stream",
     "text": [
      "a =  4\n",
      "b =  4\n",
      "Power =  256\n"
     ]
    }
   ],
   "source": [
    "a=4\n",
    "b=4\n",
    "print(\"a = \", a)\n",
    "print(\"b = \", b)\n",
    "print (\"Power = \",(a**b)) "
   ]
  }
 ],
 "metadata": {
  "kernelspec": {
   "display_name": "Python [conda env:base] *",
   "language": "python",
   "name": "conda-base-py"
  },
  "language_info": {
   "codemirror_mode": {
    "name": "ipython",
    "version": 3
   },
   "file_extension": ".py",
   "mimetype": "text/x-python",
   "name": "python",
   "nbconvert_exporter": "python",
   "pygments_lexer": "ipython3",
   "version": "3.13.5"
  }
 },
 "nbformat": 4,
 "nbformat_minor": 5
}
